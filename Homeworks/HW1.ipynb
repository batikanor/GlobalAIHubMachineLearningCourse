{
 "cells": [
  {
   "source": [
    "## Homework 1\n",
    "BATIKAN BORA ORMANCI"
   ],
   "cell_type": "markdown",
   "metadata": {}
  },
  {
   "cell_type": "markdown",
   "metadata": {},
   "source": [
    "\n",
    "### 1) How would you define Machine Learning? \n",
    "\n",
    "Machine Learning has many formal and informal definitions, all of which are due to change over time. Correctness of a definition in this domain is, according to many, the rate of acceptance from academicians and researchers.\n",
    "\n",
    "The widely accepted informal definition comes from an interpretation of a statement from Arthur Samuel (1959):\n",
    "\"Field of study that gives computers the ability to learn without being explicitly programmed\"\n",
    "Fun fact: Most people think this is a quote, but in reality he never really said this. It is just an interprettation from him, and should therefore not be 'quoted' from him.\n",
    "\n",
    "The widely accepted formal definiton:\n",
    "\"A machine is said to learn from experience E with respect to some class of tasks T and performance measure P if its performance at tasks in T, as measured by P, improves with experience E\" (Mitchell, Tom. (1997). Machine Learning. McGraw Hill. p. 2. ISBN 0-07-042807-7.)\n",
    "\n",
    "My definition with which I attempt to aggregate all acceptable definitons:\n",
    "Machine Learning is a discipline that corresponds to the systematic methodology that is perceived to be the the equivalent/counterpart of leraning (that humans do) for machines.\n",
    "\n",
    "\n"
   ]
  },
  {
   "source": [
    "\n",
    "### 2) What are the differences between Supervised and Unsupervised Learning? Specify example 3 algorithms   for each of these.  \n",
    "\n",
    "By supervised learning we have labeled data. In supervised learning we know a so-called ground truth. There are training data for which we know the input parameters and the result. Models are created from the training data, which together with the machine learning algorithms deliver the result. Once the models have been created, we can provide the model with unknown data and the system will calculate the result for us (prediction)\n",
    "\n",
    "E.g.: Linear regression, Logistic regression, Decision trees\n",
    "\n",
    "By unsupervised learning, the system does not know what to recognize. It recognizes patterns and divides the data into clusters or categories, but without knowing which categories they are or which label they fall under.\n",
    "\n",
    "E.g.: K-means, Fuzzy C-Means, Hierarchical clustering\n",
    "\n"
   ],
   "cell_type": "markdown",
   "metadata": {}
  },
  {
   "source": [
    "### 3) What are the test and validation set, and why would you want to use them?  \n",
    "The training set is used to fit the models, one uses it to have an idea about the real-time performance of the model (e.g. classifier).\n",
    "\n",
    "\n",
    " the validation set is used to estimate prediction error for model selection, one uses it to better the model by optimizing the parameters of the resp. model\n",
    " "
   ],
   "cell_type": "markdown",
   "metadata": {}
  },
  {
   "source": [
    "### 4) What are the main preprocessing steps? Explain them in detail. Why we need to prepare our data?  \n",
    "Steps of a machine learning project may be dependant on the methodology implemented.  For CRISP-DM one could say that the main steps are as follows:\n",
    "\n",
    " data cleaning, data integration, data reduction, and data transformation\n",
    "\n",
    "Some other methodologies or even sources may propose a different number of steps..\n",
    "\n",
    "Data need preparation, because data isn't always in the most convenient form for every action that may require the data. The algorithms into which the data was meant to be imputted may require the data to be in a certain form, the data may be sort of faulty, or some modifications could be on the data done to improve model results, if the current form, shape and style etc of the data are proven or thought to be worse than how they potentially could be.\n",
    "\n"
   ],
   "cell_type": "markdown",
   "metadata": {}
  },
  {
   "source": [
    "### 5) How you can explore and analyse countionus and discrete variables?  \n",
    "\n",
    "Plots are not always meaningful. A violin plot may be quite informing for plotting numeric data with the purpose of representing the comparison of a variable distribution, but violin plots may be meaningles for some other use cases. It is important that the observer makes the decision to use certain plots intentionally, and doesn't just repeat what he knows the best all the time for visualisation.\n",
    "\n",
    "Exploration and analysis of continuous variables may be done with density, line, box and histogram plots, etc\n",
    "\n",
    "Exploration and analysis of discrete variables may be done with pie charts, histograms, etc\n",
    "\n",
    "Domain specific analysis may require the decision of one plot over another etc..."
   ],
   "cell_type": "markdown",
   "metadata": {}
  },
  {
   "source": [
    "### 6) Analyse the plot given below. (What is the plot and variable type, check the distribution and make comment about how you can preproccess it.) \n",
    "\n",
    "We have a continious variable, and the plot includes both a histogram and a density graph on top of one another. This is not a normal distribution and is leaning slightly left. During the preprocessing phase this data could be standardized, normalized etc.\n"
   ],
   "cell_type": "markdown",
   "metadata": {}
  },
  {
   "source": [],
   "cell_type": "markdown",
   "metadata": {}
  }
 ],
 "metadata": {
  "kernelspec": {
   "display_name": "Python 3",
   "language": "python",
   "name": "python3"
  },
  "language_info": {
   "codemirror_mode": {
    "name": "ipython",
    "version": 3
   },
   "file_extension": ".py",
   "mimetype": "text/x-python",
   "name": "python",
   "nbconvert_exporter": "python",
   "pygments_lexer": "ipython3",
   "version": "3.7.3"
  }
 },
 "nbformat": 4,
 "nbformat_minor": 4
}